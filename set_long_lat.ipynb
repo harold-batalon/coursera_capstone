{
 "cells": [
  {
   "cell_type": "code",
   "execution_count": 1,
   "metadata": {},
   "outputs": [],
   "source": [
    "import pandas as pd\n",
    "import geocoder"
   ]
  },
  {
   "cell_type": "code",
   "execution_count": 2,
   "metadata": {},
   "outputs": [],
   "source": [
    "data = pd.read_csv('postal.csv')"
   ]
  },
  {
   "cell_type": "code",
   "execution_count": 3,
   "metadata": {},
   "outputs": [
    {
     "name": "stdout",
     "output_type": "stream",
     "text": [
      "    Postcode      Borough                                      Neighbourhood\n",
      "0        M1B  Scarborough                                      Rouge,Malvern\n",
      "1        M1C  Scarborough               Highland Creek,Rouge Hill,Port Union\n",
      "2        M1E  Scarborough                    Guildwood,Morningside,West Hill\n",
      "3        M1G  Scarborough                                             Woburn\n",
      "4        M1H  Scarborough                                          Cedarbrae\n",
      "..       ...          ...                                                ...\n",
      "98       M9N         York                                             Weston\n",
      "99       M9P    Etobicoke                                          Westmount\n",
      "100      M9R    Etobicoke  Kingsview Village,Martin Grove Gardens,Richvie...\n",
      "101      M9V    Etobicoke  Albion Gardens,Beaumond Heights,Humbergate,Jam...\n",
      "102      M9W    Etobicoke                                          Northwest\n",
      "\n",
      "[103 rows x 3 columns]\n"
     ]
    }
   ],
   "source": [
    "print(data)"
   ]
  },
  {
   "cell_type": "code",
   "execution_count": 4,
   "metadata": {},
   "outputs": [],
   "source": [
    "data['long'] = None\n",
    "data['lat'] = None"
   ]
  },
  {
   "cell_type": "code",
   "execution_count": 5,
   "metadata": {},
   "outputs": [
    {
     "name": "stdout",
     "output_type": "stream",
     "text": [
      "    Postcode      Borough                                      Neighbourhood  \\\n",
      "0        M1B  Scarborough                                      Rouge,Malvern   \n",
      "1        M1C  Scarborough               Highland Creek,Rouge Hill,Port Union   \n",
      "2        M1E  Scarborough                    Guildwood,Morningside,West Hill   \n",
      "3        M1G  Scarborough                                             Woburn   \n",
      "4        M1H  Scarborough                                          Cedarbrae   \n",
      "..       ...          ...                                                ...   \n",
      "98       M9N         York                                             Weston   \n",
      "99       M9P    Etobicoke                                          Westmount   \n",
      "100      M9R    Etobicoke  Kingsview Village,Martin Grove Gardens,Richvie...   \n",
      "101      M9V    Etobicoke  Albion Gardens,Beaumond Heights,Humbergate,Jam...   \n",
      "102      M9W    Etobicoke                                          Northwest   \n",
      "\n",
      "     long   lat  \n",
      "0    None  None  \n",
      "1    None  None  \n",
      "2    None  None  \n",
      "3    None  None  \n",
      "4    None  None  \n",
      "..    ...   ...  \n",
      "98   None  None  \n",
      "99   None  None  \n",
      "100  None  None  \n",
      "101  None  None  \n",
      "102  None  None  \n",
      "\n",
      "[103 rows x 5 columns]\n"
     ]
    }
   ],
   "source": [
    "print(data)"
   ]
  },
  {
   "cell_type": "code",
   "execution_count": 18,
   "metadata": {},
   "outputs": [
    {
     "name": "stdout",
     "output_type": "stream",
     "text": [
      "M1B, Toronto, Ontario is None\n",
      "M1C, Toronto, Ontario is None\n",
      "M1E, Toronto, Ontario is None\n",
      "M1G, Toronto, Ontario is None\n",
      "M1H, Toronto, Ontario is None\n",
      "M1J, Toronto, Ontario is None\n",
      "M1K, Toronto, Ontario is None\n",
      "M1L, Toronto, Ontario is None\n",
      "M1M, Toronto, Ontario is None\n",
      "M1N, Toronto, Ontario is None\n",
      "M1P, Toronto, Ontario is None\n",
      "M1R, Toronto, Ontario is None\n",
      "M1S, Toronto, Ontario is None\n",
      "M1T, Toronto, Ontario is None\n",
      "M1V, Toronto, Ontario is None\n",
      "M1W, Toronto, Ontario is None\n",
      "M1X, Toronto, Ontario is None\n",
      "M2H, Toronto, Ontario is None\n",
      "M2J, Toronto, Ontario is None\n",
      "M2K, Toronto, Ontario is None\n",
      "M2L, Toronto, Ontario is None\n",
      "M2M, Toronto, Ontario is None\n",
      "M2N, Toronto, Ontario is None\n",
      "M2P, Toronto, Ontario is None\n",
      "M2R, Toronto, Ontario is None\n",
      "M3A, Toronto, Ontario is None\n",
      "M3B, Toronto, Ontario is None\n",
      "M3C, Toronto, Ontario is None\n",
      "M3H, Toronto, Ontario is None\n",
      "M3J, Toronto, Ontario is None\n",
      "M3K, Toronto, Ontario is None\n",
      "M3L, Toronto, Ontario is None\n",
      "M3M, Toronto, Ontario is None\n",
      "M3N, Toronto, Ontario is None\n",
      "M4A, Toronto, Ontario is None\n",
      "M4B, Toronto, Ontario is None\n",
      "M4C, Toronto, Ontario is None\n",
      "M4E, Toronto, Ontario is None\n",
      "M4G, Toronto, Ontario is None\n",
      "M4H, Toronto, Ontario is None\n",
      "M4J, Toronto, Ontario is None\n",
      "M4K, Toronto, Ontario is None\n",
      "M4L, Toronto, Ontario is None\n",
      "M4M, Toronto, Ontario is None\n",
      "M4N, Toronto, Ontario is None\n",
      "M4P, Toronto, Ontario is None\n",
      "M4R, Toronto, Ontario is None\n",
      "M4S, Toronto, Ontario is None\n",
      "M4T, Toronto, Ontario is None\n",
      "M4V, Toronto, Ontario is None\n",
      "M4W, Toronto, Ontario is None\n",
      "M4X, Toronto, Ontario is None\n",
      "M4Y, Toronto, Ontario is None\n",
      "M5A, Toronto, Ontario is None\n",
      "M5B, Toronto, Ontario is None\n",
      "M5C, Toronto, Ontario is None\n",
      "M5E, Toronto, Ontario is None\n",
      "M5G, Toronto, Ontario is None\n",
      "M5H, Toronto, Ontario is None\n",
      "M5J, Toronto, Ontario is None\n",
      "M5K, Toronto, Ontario is None\n",
      "M5L, Toronto, Ontario is None\n",
      "M5M, Toronto, Ontario is None\n",
      "M5N, Toronto, Ontario is None\n",
      "M5P, Toronto, Ontario is None\n",
      "M5R, Toronto, Ontario is None\n",
      "M5S, Toronto, Ontario is None\n",
      "M5T, Toronto, Ontario is None\n",
      "M5V, Toronto, Ontario is None\n",
      "M5W, Toronto, Ontario is None\n",
      "M5X, Toronto, Ontario is None\n",
      "M6A, Toronto, Ontario is None\n",
      "M6B, Toronto, Ontario is None\n",
      "M6C, Toronto, Ontario is None\n",
      "M6E, Toronto, Ontario is None\n",
      "M6G, Toronto, Ontario is None\n",
      "M6H, Toronto, Ontario is None\n",
      "M6J, Toronto, Ontario is None\n",
      "M6K, Toronto, Ontario is None\n",
      "M6L, Toronto, Ontario is None\n",
      "M6M, Toronto, Ontario is None\n",
      "M6N, Toronto, Ontario is None\n",
      "M6P, Toronto, Ontario is None\n",
      "M6R, Toronto, Ontario is None\n",
      "M6S, Toronto, Ontario is None\n",
      "M7A, Toronto, Ontario is None\n",
      "M7R, Toronto, Ontario is None\n",
      "M7Y, Toronto, Ontario is None\n",
      "M8V, Toronto, Ontario is None\n",
      "M8W, Toronto, Ontario is None\n",
      "M8X, Toronto, Ontario is None\n",
      "M8Y, Toronto, Ontario is None\n",
      "M8Z, Toronto, Ontario is None\n",
      "M9A, Toronto, Ontario is None\n",
      "M9B, Toronto, Ontario is None\n",
      "M9C, Toronto, Ontario is None\n",
      "M9L, Toronto, Ontario is None\n",
      "M9M, Toronto, Ontario is None\n",
      "M9N, Toronto, Ontario is None\n",
      "M9P, Toronto, Ontario is None\n",
      "M9R, Toronto, Ontario is None\n",
      "M9V, Toronto, Ontario is None\n",
      "M9W, Toronto, Ontario is None\n"
     ]
    }
   ],
   "source": [
    "geo_data = []\n",
    "for row, col in data.iterrows():\n",
    "    geo = geocoder.google('{}, Toronto, Ontario'.format(col[0]))\n",
    "    lat_lng_coords = geo.latlng\n",
    "    print('{}, Toronto, Ontario'.format(col[0]) + ' is ' + str(lat_lng_coords))\n",
    "    "
   ]
  },
  {
   "cell_type": "markdown",
   "metadata": {},
   "source": [
    "### since I get None when using geocoder, I will use the given link in the assessment and join them with my data"
   ]
  },
  {
   "cell_type": "code",
   "execution_count": 26,
   "metadata": {},
   "outputs": [],
   "source": [
    "url_ll = 'http://cocl.us/Geospatial_data'"
   ]
  },
  {
   "cell_type": "code",
   "execution_count": 30,
   "metadata": {},
   "outputs": [],
   "source": [
    "data_2 = pd.read_csv(url_ll)\n",
    "data_2 = data_2.rename(columns={'Postal Code' : 'Postcode'})"
   ]
  },
  {
   "cell_type": "code",
   "execution_count": 31,
   "metadata": {},
   "outputs": [
    {
     "name": "stdout",
     "output_type": "stream",
     "text": [
      "  Postcode   Latitude  Longitude\n",
      "0      M1B  43.806686 -79.194353\n",
      "1      M1C  43.784535 -79.160497\n",
      "2      M1E  43.763573 -79.188711\n",
      "3      M1G  43.770992 -79.216917\n",
      "4      M1H  43.773136 -79.239476\n"
     ]
    }
   ],
   "source": [
    "print(data_2.head())"
   ]
  },
  {
   "cell_type": "code",
   "execution_count": 32,
   "metadata": {},
   "outputs": [],
   "source": [
    "merged_data = pd.merge(data, data_2, on='Postcode')"
   ]
  },
  {
   "cell_type": "code",
   "execution_count": 33,
   "metadata": {},
   "outputs": [
    {
     "name": "stdout",
     "output_type": "stream",
     "text": [
      "  Postcode      Borough                         Neighbourhood  long   lat  \\\n",
      "0      M1B  Scarborough                         Rouge,Malvern  None  None   \n",
      "1      M1C  Scarborough  Highland Creek,Rouge Hill,Port Union  None  None   \n",
      "2      M1E  Scarborough       Guildwood,Morningside,West Hill  None  None   \n",
      "3      M1G  Scarborough                                Woburn  None  None   \n",
      "4      M1H  Scarborough                             Cedarbrae  None  None   \n",
      "\n",
      "    Latitude  Longitude  \n",
      "0  43.806686 -79.194353  \n",
      "1  43.784535 -79.160497  \n",
      "2  43.763573 -79.188711  \n",
      "3  43.770992 -79.216917  \n",
      "4  43.773136 -79.239476  \n"
     ]
    }
   ],
   "source": [
    "print(merged_data.head())"
   ]
  },
  {
   "cell_type": "code",
   "execution_count": 34,
   "metadata": {},
   "outputs": [
    {
     "name": "stdout",
     "output_type": "stream",
     "text": [
      "data saved as csv\n"
     ]
    }
   ],
   "source": [
    "save_data = merged_data.to_csv('postal_data.csv')\n",
    "print(\"data saved as csv\")"
   ]
  },
  {
   "cell_type": "code",
   "execution_count": null,
   "metadata": {},
   "outputs": [],
   "source": []
  }
 ],
 "metadata": {
  "kernelspec": {
   "display_name": "Python 3",
   "language": "python",
   "name": "python3"
  },
  "language_info": {
   "codemirror_mode": {
    "name": "ipython",
    "version": 3
   },
   "file_extension": ".py",
   "mimetype": "text/x-python",
   "name": "python",
   "nbconvert_exporter": "python",
   "pygments_lexer": "ipython3",
   "version": "3.6.8"
  }
 },
 "nbformat": 4,
 "nbformat_minor": 2
}

{
 "cells": [
  {
   "cell_type": "code",
   "execution_count": 1,
   "metadata": {},
   "outputs": [],
   "source": [
    "import pandas as pd"
   ]
  },
  {
   "cell_type": "markdown",
   "metadata": {},
   "source": [
    "### set url for pandas to read as html and get the first table data "
   ]
  },
  {
   "cell_type": "code",
   "execution_count": 2,
   "metadata": {},
   "outputs": [],
   "source": [
    "url = 'https://en.wikipedia.org/wiki/List_of_postal_codes_of_Canada:_M'"
   ]
  },
  {
   "cell_type": "code",
   "execution_count": 3,
   "metadata": {},
   "outputs": [],
   "source": [
    "data = pd.read_html(url)"
   ]
  },
  {
   "cell_type": "code",
   "execution_count": 4,
   "metadata": {},
   "outputs": [],
   "source": [
    "data = data[0]"
   ]
  },
  {
   "cell_type": "code",
   "execution_count": 5,
   "metadata": {},
   "outputs": [
    {
     "name": "stdout",
     "output_type": "stream",
     "text": [
      "    Postcode           Borough          Neighbourhood\n",
      "0        M1A      Not assigned           Not assigned\n",
      "1        M2A      Not assigned           Not assigned\n",
      "2        M3A        North York              Parkwoods\n",
      "3        M4A        North York       Victoria Village\n",
      "4        M5A  Downtown Toronto           Harbourfront\n",
      "..       ...               ...                    ...\n",
      "283      M8Z         Etobicoke              Mimico NW\n",
      "284      M8Z         Etobicoke     The Queensway West\n",
      "285      M8Z         Etobicoke  Royal York South West\n",
      "286      M8Z         Etobicoke         South of Bloor\n",
      "287      M9Z      Not assigned           Not assigned\n",
      "\n",
      "[288 rows x 3 columns]\n"
     ]
    }
   ],
   "source": [
    "print(data)"
   ]
  },
  {
   "cell_type": "markdown",
   "metadata": {},
   "source": [
    "### remove columns with Not Assigned Borough"
   ]
  },
  {
   "cell_type": "code",
   "execution_count": 6,
   "metadata": {},
   "outputs": [],
   "source": [
    "borough_filter = data['Borough'] != 'Not assigned'"
   ]
  },
  {
   "cell_type": "code",
   "execution_count": 7,
   "metadata": {},
   "outputs": [],
   "source": [
    "data = data[borough_filter]"
   ]
  },
  {
   "cell_type": "code",
   "execution_count": 8,
   "metadata": {},
   "outputs": [
    {
     "name": "stdout",
     "output_type": "stream",
     "text": [
      "    Postcode           Borough             Neighbourhood\n",
      "2        M3A        North York                 Parkwoods\n",
      "3        M4A        North York          Victoria Village\n",
      "4        M5A  Downtown Toronto              Harbourfront\n",
      "5        M5A  Downtown Toronto               Regent Park\n",
      "6        M6A        North York          Lawrence Heights\n",
      "..       ...               ...                       ...\n",
      "282      M8Z         Etobicoke  Kingsway Park South West\n",
      "283      M8Z         Etobicoke                 Mimico NW\n",
      "284      M8Z         Etobicoke        The Queensway West\n",
      "285      M8Z         Etobicoke     Royal York South West\n",
      "286      M8Z         Etobicoke            South of Bloor\n",
      "\n",
      "[211 rows x 3 columns]\n"
     ]
    }
   ],
   "source": [
    "print(data)"
   ]
  },
  {
   "cell_type": "markdown",
   "metadata": {},
   "source": [
    "### check if the neigborhood data is qual to not assigned and re-assign to data in Borough Column"
   ]
  },
  {
   "cell_type": "code",
   "execution_count": 9,
   "metadata": {},
   "outputs": [],
   "source": [
    "data.loc[data.Neighbourhood == 'Not assigned' , 'Neighbourhood'] = data.Borough"
   ]
  },
  {
   "cell_type": "code",
   "execution_count": 15,
   "metadata": {},
   "outputs": [
    {
     "name": "stdout",
     "output_type": "stream",
     "text": [
      "  Postcode       Borough Neighbourhood\n",
      "8      M7A  Queen's Park  Queen's Park\n"
     ]
    }
   ],
   "source": [
    "checker = data[data.Postcode == 'M7A']\n",
    "print(checker)"
   ]
  },
  {
   "cell_type": "markdown",
   "metadata": {},
   "source": [
    "### concatenate based on postcode and borough"
   ]
  },
  {
   "cell_type": "code",
   "execution_count": 16,
   "metadata": {},
   "outputs": [],
   "source": [
    "data_postal = data.groupby(['Postcode', 'Borough'])['Neighbourhood'].apply(lambda x: ','.join(x)).reset_index()"
   ]
  },
  {
   "cell_type": "code",
   "execution_count": 17,
   "metadata": {},
   "outputs": [
    {
     "name": "stdout",
     "output_type": "stream",
     "text": [
      "    Postcode      Borough                                      Neighbourhood\n",
      "0        M1B  Scarborough                                      Rouge,Malvern\n",
      "1        M1C  Scarborough               Highland Creek,Rouge Hill,Port Union\n",
      "2        M1E  Scarborough                    Guildwood,Morningside,West Hill\n",
      "3        M1G  Scarborough                                             Woburn\n",
      "4        M1H  Scarborough                                          Cedarbrae\n",
      "..       ...          ...                                                ...\n",
      "98       M9N         York                                             Weston\n",
      "99       M9P    Etobicoke                                          Westmount\n",
      "100      M9R    Etobicoke  Kingsview Village,Martin Grove Gardens,Richvie...\n",
      "101      M9V    Etobicoke  Albion Gardens,Beaumond Heights,Humbergate,Jam...\n",
      "102      M9W    Etobicoke                                          Northwest\n",
      "\n",
      "[103 rows x 3 columns]\n"
     ]
    }
   ],
   "source": [
    "print(data_postal)"
   ]
  },
  {
   "cell_type": "code",
   "execution_count": 19,
   "metadata": {},
   "outputs": [
    {
     "data": {
      "text/plain": [
       "(103, 3)"
      ]
     },
     "execution_count": 19,
     "metadata": {},
     "output_type": "execute_result"
    }
   ],
   "source": [
    "data_postal.shape"
   ]
  }
 ],
 "metadata": {
  "kernelspec": {
   "display_name": "Python 3",
   "language": "python",
   "name": "python3"
  },
  "language_info": {
   "codemirror_mode": {
    "name": "ipython",
    "version": 3
   },
   "file_extension": ".py",
   "mimetype": "text/x-python",
   "name": "python",
   "nbconvert_exporter": "python",
   "pygments_lexer": "ipython3",
   "version": "3.6.8"
  }
 },
 "nbformat": 4,
 "nbformat_minor": 2
}
